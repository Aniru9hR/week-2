{
 "cells": [
  {
   "attachments": {},
   "cell_type": "markdown",
   "metadata": {},
   "source": [
    "# Coding Temple's Data Analytics Program\n",
    "---\n",
    "## Python Basics Assignment 4\n",
    "---"
   ]
  },
  {
   "attachments": {},
   "cell_type": "markdown",
   "metadata": {},
   "source": [
    "### **Task 1: Update Shopping Cart**\n",
    "Using the shopping cart you created yesterday as a blueprint, create a shopping cart using object-oriented programming. This shopping cart should maintain all functionality that you currently have in your blueprint."
   ]
  },
  {
   "cell_type": "code",
   "execution_count": 6,
   "metadata": {},
   "outputs": [
    {
     "name": "stdout",
     "output_type": "stream",
     "text": [
      "your shopping cart list is : ['orange', 'apple', 'cake', 'banana']\n",
      "your shopping cart list is : ['orange', 'apple', 'banana']\n",
      "cake  not present in your shopping list\n",
      "shopping cart list is  ['orange', 'apple', 'banana']\n"
     ]
    }
   ],
   "source": [
    "# YOUR CODE HERE\n",
    "class ShoppingCart:\n",
    "    def __init__(self,items):\n",
    "        self.items = items\n",
    "\n",
    "    def add_items(self,add_item):\n",
    "        return self.items.extend(add_item.split(\"|\"))\n",
    "\n",
    "\n",
    "    def delete_items(self,item_name):\n",
    "        # delete_item = input(\"Input item to delete ?\")\n",
    "        if delete_item in self.items:\n",
    "            return self.items.remove(delete_item)\n",
    "        else: \n",
    "            print(delete_item,\" not present in your shopping list\")\n",
    "            return self.items\n",
    "\n",
    "\n",
    "    def show_items(self):\n",
    "       print(\"your shopping cart list is :\",self.items)\n",
    "\n",
    "\n",
    "    def clear_items(self):\n",
    "        self.items.clear()\n",
    "   \n",
    "\n",
    "\n",
    "items = ['orange','apple']\n",
    "cart = ShoppingCart(items)\n",
    "while True:\n",
    "    response=input(\"Do you want to : Show/Add/Delete/clear or Quit?\")\n",
    "    if response.lower() == 'show':\n",
    "        cart.show_items() \n",
    "    elif response.lower() == \"add\":\n",
    "        add_item = input(\"Input items to add (use | to add more items) ?\")\n",
    "        cart.add_items(add_item)\n",
    "    elif response.lower() == \"delete\":\n",
    "        delete_item = input(\"Input item to delete ?\")\n",
    "        cart.delete_items(delete_item)\n",
    "    elif response.lower() == \"clear\":\n",
    "        cart.clear_items()\n",
    "    elif response.lower() == \"quit\":\n",
    "        print(\"shopping cart list is \",cart.items)\n",
    "        break\n",
    " "
   ]
  },
  {
   "attachments": {},
   "cell_type": "markdown",
   "metadata": {},
   "source": [
    "### **Task 2: String Class**\n",
    "Write a class which has the following two methods:\n",
    "* `get_string`: Accepts a string input from the user\n",
    "* `print_string`: Prints the string all in upper-case"
   ]
  },
  {
   "cell_type": "code",
   "execution_count": 8,
   "metadata": {},
   "outputs": [
    {
     "name": "stdout",
     "output_type": "stream",
     "text": [
      "Name :  HELLO\n"
     ]
    }
   ],
   "source": [
    "# YOUR CODE HERE\n",
    "\n",
    "\n",
    "class PrintName:\n",
    "    def __init__(self):\n",
    "        self.name = \"\"\n",
    "\n",
    "    def get_string(self):\n",
    "        self.name = input()\n",
    "\n",
    "\n",
    "    def print_string(self) : \n",
    "        print(\"Name : \",self.name.upper())\n",
    "\n",
    "name = PrintName()\n",
    "name.get_string()\n",
    "name.print_string()\n",
    "\n",
    "\n",
    "\n",
    "\n"
   ]
  },
  {
   "attachments": {},
   "cell_type": "markdown",
   "metadata": {},
   "source": [
    "### **Task 3: Activities**\n",
    "Create a class that depicts your favorite activity. Add in attributes that are associated with that activity in you `__init__` call. Also, create three functions that are associated with the activity.\n",
    "\n",
    "**Example:**\n",
    "If I chose football, I may have a FootballPlayer class with attributes such as:\n",
    "* `self.speed`\n",
    "* `self.strength`\n",
    "* `self.position`\n",
    "\n",
    "and methods such as:\n",
    "* `def pass_ball`\n",
    "* `def run`\n",
    "* `def faster_than_x`"
   ]
  },
  {
   "cell_type": "code",
   "execution_count": 13,
   "metadata": {},
   "outputs": [],
   "source": [
    "class Soccer():\n",
    "\n",
    "    def __init__(self,dribble,speed,passing):\n",
    "        self.dribble = dribble\n",
    "        self.speed = speed\n",
    "        self.passing = passing \n",
    "    \n",
    "    def pass_ball(self):\n",
    "        print(\"Passing completed :\",self.passing)\n",
    "\n",
    "    def sprinting_time(self):\n",
    "        t=print(\"Sprint time :\", 100/self.speed)\n",
    "\n",
    "    def completed_dribbles(self):\n",
    "        dr=print(\"Dribbles completed :\",self.dribble/90)\n"
   ]
  },
  {
   "attachments": {},
   "cell_type": "markdown",
   "metadata": {},
   "source": [
    "### **Task 4: Test Your Class!**\n",
    "Now that you created your class, let's create an instance of your class. In the cell below, instantiate a Class Object, then test each of your class methods on that object."
   ]
  },
  {
   "cell_type": "code",
   "execution_count": 14,
   "metadata": {},
   "outputs": [
    {
     "name": "stdout",
     "output_type": "stream",
     "text": [
      "Passing completed : 95\n",
      "Sprint time : 1.0526315789473684\n",
      "Dribbles completed : 1.0555555555555556\n"
     ]
    }
   ],
   "source": [
    "Aguero=Soccer(90,92,95)\n",
    "Aguero.pass_ball()\n",
    "\n",
    "Saka=Soccer(94,95,87)\n",
    "Saka.sprinting_time()\n",
    "\n",
    "Bernardo=Soccer(95,82,92)\n",
    "Bernardo.completed_dribbles()"
   ]
  }
 ],
 "metadata": {
  "kernelspec": {
   "display_name": "Python 3",
   "language": "python",
   "name": "python3"
  },
  "language_info": {
   "codemirror_mode": {
    "name": "ipython",
    "version": 3
   },
   "file_extension": ".py",
   "mimetype": "text/x-python",
   "name": "python",
   "nbconvert_exporter": "python",
   "pygments_lexer": "ipython3",
   "version": "3.10.11"
  },
  "orig_nbformat": 4,
  "vscode": {
   "interpreter": {
    "hash": "26de051ba29f2982a8de78e945f0abaf191376122a1563185a90213a26c5da77"
   }
  }
 },
 "nbformat": 4,
 "nbformat_minor": 2
}
