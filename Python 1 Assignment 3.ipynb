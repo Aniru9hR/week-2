{
 "cells": [
  {
   "attachments": {},
   "cell_type": "markdown",
   "metadata": {},
   "source": [
    "# Coding Temple's Data Analytics Program\n",
    "---\n",
    "## Python 1 Assignment 3\n",
    "---"
   ]
  },
  {
   "attachments": {},
   "cell_type": "markdown",
   "metadata": {},
   "source": [
    "### **Task 1: Build a Shopping Cart**\n",
    "**You can use either lists or dictionaries. The program should have the following capabilites:**\n",
    "* Takes a string as an input\n",
    "* Stores user input in a dictionary or list\n",
    "* Users should be able to:\n",
    "    * Add Items\n",
    "    * Delete Items\n",
    "    * See current shopping cart\n",
    "* The program should loop until user 'quits'\n",
    "* Upon quitting the program, print out all items in the user's list"
   ]
  },
  {
   "cell_type": "code",
   "execution_count": 13,
   "metadata": {},
   "outputs": [
    {
     "name": "stdout",
     "output_type": "stream",
     "text": [
      "your shopping cart list is : ['carrot']\n",
      "your shopping cart list is : ['carrot', 'milk', 'bread', 'jam']\n",
      "your shopping cart list is : ['carrot', 'bread', 'jam']\n",
      "['carrot', 'bread', 'jam']\n"
     ]
    }
   ],
   "source": [
    "from IPython.display import clear_output\n",
    "\n",
    "# Ask the user 5 bits of input: Do you want to : Show/Add/Delete/clear or Quit?\n",
    "# YOUR CODE HERE\n",
    "def shopping_cart():\n",
    "    d1 = []\n",
    "    while True:\n",
    "        response=input(\"Do you want to : Show/Add/Delete/clear or Quit?\")\n",
    "        if response.lower() == 'show':\n",
    "            print(\"your shopping cart list is :\",d1) \n",
    "        elif response.lower() == \"add\":\n",
    "            add_items(d1)\n",
    "        elif response.lower() == \"delete\":\n",
    "            delete_items(d1)\n",
    "        elif response.lower() == \"clear\":\n",
    "            d1.clear()\n",
    "        elif response.lower() == \"quit\":\n",
    "            return d1\n",
    "   \n",
    "   \n",
    "\n",
    "def add_items(d1):\n",
    " add_item = input(\"Input items to add (use | to add more items) ?\")\n",
    " return d1.extend(add_item.split(\"|\"))\n",
    "\n",
    "def delete_items(d1):\n",
    "    delete_item = input(\"Input item to delete ?\")\n",
    "    if delete_item in d1:\n",
    "            return d1.remove(delete_item)\n",
    "    else: \n",
    "         print(delete_item,\" not present in your shopping list\")\n",
    "         return d1\n",
    "\n",
    "\n",
    "print(shopping_cart())\n",
    "\n",
    "\n",
    "        \n",
    "\n",
    "\n",
    "\n",
    "\n"
   ]
  },
  {
   "attachments": {},
   "cell_type": "markdown",
   "metadata": {},
   "source": [
    "### **Task 2: Create a Module and Import it**\n",
    "Create a Module in VS Code and import it into a Notebook. Use each of the functions you build in your module\n",
    "\n",
    "**Your module should have the following capabilities:**\n",
    "* Has a function to calculate the square footage of a house\n",
    "* Has a function to calculate the circumference of a circle\n",
    "* Has a function to change feet to inches"
   ]
  },
  {
   "cell_type": "code",
   "execution_count": 14,
   "metadata": {},
   "outputs": [
    {
     "name": "stdout",
     "output_type": "stream",
     "text": [
      "4\n",
      "25.12\n",
      "48\n"
     ]
    }
   ],
   "source": [
    "import test \n",
    "\n",
    "print(test.square_foot(1,4))\n",
    "print(test.circum(4))\n",
    "print(test.ft_to_in(4))\n",
    "\n",
    "\n",
    "\n",
    "\n",
    "\n",
    "\n"
   ]
  },
  {
   "attachments": {},
   "cell_type": "markdown",
   "metadata": {},
   "source": [
    "### **Task 3.1: Lists**\n",
    "Create 4 lists. Two of these lists should be keys, two of these lists should be values"
   ]
  },
  {
   "cell_type": "code",
   "execution_count": 15,
   "metadata": {},
   "outputs": [],
   "source": [
    "l1=['andrew','brandon','charles','david']\n",
    "l2=['allison','donna','juliet','katie']\n",
    "l3=[21,24,37,42]\n",
    "l4=[24,23,42,35]\n"
   ]
  },
  {
   "attachments": {},
   "cell_type": "markdown",
   "metadata": {},
   "source": [
    "### **Task 3.2: Create a function that converts two lists into a dictionary, then merges two dictionaries into one.**\n",
    "\n",
    "Using your 4 lists, create a function which combines the keys lists with the values lists into a dictionary, then merges and returns the two dictionaries together."
   ]
  },
  {
   "cell_type": "code",
   "execution_count": 19,
   "metadata": {},
   "outputs": [
    {
     "name": "stdout",
     "output_type": "stream",
     "text": [
      "{'katie': 35, 'allison': 24, 'brandon': 24, 'andrew': 21, 'juliet': 42, 'charles': 37, 'donna': 23, 'david': 42}\n"
     ]
    }
   ],
   "source": [
    "l1=['andrew','brandon','charles','david']\n",
    "l2=['allison','donna','juliet','katie']\n",
    "l3=[21,24,37,42]\n",
    "l4=[24,23,42,35]\n",
    "\n",
    "def create_dict1(l1,l3):\n",
    "    dict1={}\n",
    "    for x,y in zip(l1,l3):\n",
    "        dict1[x]=y\n",
    "    return dict1\n",
    "\n",
    "\n",
    "def create_dict2(l2,l4):\n",
    "    dict2={}\n",
    "    for x,y in zip(l2,l4):\n",
    "        dict2[x]=y\n",
    "    return dict2\n",
    "\n",
    "d1 = create_dict1(l1,l3)     \n",
    "d2 = create_dict2(l2,l4)\n",
    "d3 = dict(d1.items()|d2.items())\n",
    "print(d3)\n",
    "\n",
    "\n",
    "\n",
    "    \n"
   ]
  }
 ],
 "metadata": {
  "kernelspec": {
   "display_name": "Python 3",
   "language": "python",
   "name": "python3"
  },
  "language_info": {
   "name": "python",
   "version": "3.10.8"
  },
  "orig_nbformat": 4,
  "vscode": {
   "interpreter": {
    "hash": "26de051ba29f2982a8de78e945f0abaf191376122a1563185a90213a26c5da77"
   }
  }
 },
 "nbformat": 4,
 "nbformat_minor": 2
}
